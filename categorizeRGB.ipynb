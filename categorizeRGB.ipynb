{
  "nbformat": 4,
  "nbformat_minor": 0,
  "metadata": {
    "colab": {
      "name": "categorizeRGB.ipynb",
      "provenance": [],
      "collapsed_sections": [],
      "authorship_tag": "ABX9TyNnclhE9xAqr0lU/VlfGXn3",
      "include_colab_link": true
    },
    "kernelspec": {
      "name": "python3",
      "display_name": "Python 3"
    }
  },
  "cells": [
    {
      "cell_type": "markdown",
      "metadata": {
        "id": "view-in-github",
        "colab_type": "text"
      },
      "source": [
        "<a href=\"https://colab.research.google.com/github/kakdeykaushik/categorize_rgb/blob/master/categorizeRGB.ipynb\" target=\"_parent\"><img src=\"https://colab.research.google.com/assets/colab-badge.svg\" alt=\"Open In Colab\"/></a>"
      ]
    },
    {
      "cell_type": "code",
      "metadata": {
        "id": "QJQruKWciwWA",
        "colab_type": "code",
        "colab": {}
      },
      "source": [
        "import cv2\n",
        "from sklearn.cluster import KMeans\n",
        "import matplotlib.pyplot as plt"
      ],
      "execution_count": 0,
      "outputs": []
    },
    {
      "cell_type": "code",
      "metadata": {
        "id": "yqSOTglpjRFR",
        "colab_type": "code",
        "colab": {}
      },
      "source": [
        "class CategorizeColor:\n",
        "\n",
        "\n",
        "    def __init__(self, image, clusters):\n",
        "        self.clusters = clusters\n",
        "        self.image = image\n",
        "        \n",
        "    def categorize(self):\n",
        "  \n",
        "        img = cv2.imread(self.image)\n",
        "        img = cv2.cvtColor(img, cv2.COLOR_BGR2RGB)\n",
        "\n",
        "        img = img.reshape((img.shape[0] * img.shape[1], 3))\n",
        "   \n",
        "        self.image = img\n",
        "        \n",
        "        kmeans = KMeans(n_clusters = self.clusters)\n",
        "        kmeans.fit(img)\n",
        "        \n",
        "        self.colors = kmeans.cluster_centers_\n",
        "  \n",
        "\n",
        "        return self.colors.astype(int)"
      ],
      "execution_count": 0,
      "outputs": []
    },
    {
      "cell_type": "code",
      "metadata": {
        "id": "ZP92W2zemKY6",
        "colab_type": "code",
        "colab": {}
      },
      "source": [
        "# Enter valid Image path\n",
        "img = \"1x1-aero-two-color-background.jpg\"\n",
        "clusters = 1\n",
        "dc = CategorizeColor(img, clusters) \n",
        "colors = dc.categorize()\n",
        "print(colors)"
      ],
      "execution_count": 0,
      "outputs": []
    },
    {
      "cell_type": "code",
      "metadata": {
        "id": "fL2tSTOcvN-x",
        "colab_type": "code",
        "colab": {}
      },
      "source": [
        "rgb_list = colors.tolist()\n",
        "\n",
        "# converting rgb_list into plottable format\n",
        "list_to_plot = [tuple(i) for i in rgb_list] \n",
        "\n",
        "# Custom argmax() to get idx of max value in list\n",
        "argmax = max(zip(list_to_plot[0], range(len(list_to_plot[0]))))[1]"
      ],
      "execution_count": 0,
      "outputs": []
    },
    {
      "cell_type": "code",
      "metadata": {
        "id": "FcgH_BYmsK-c",
        "colab_type": "code",
        "colab": {}
      },
      "source": [
        "red, green, blue = (255, 0, 0), (0, 255, 0), (0, 0, 255)\n",
        "\n",
        "top_match = [red, green, blue][argmax]\n"
      ],
      "execution_count": 0,
      "outputs": []
    },
    {
      "cell_type": "code",
      "metadata": {
        "id": "27A9oBB4sbK9",
        "colab_type": "code",
        "colab": {}
      },
      "source": [
        "# Plotting the Result\n",
        "\n",
        "fig, axs = plt.subplots(1, 2)\n",
        "axs[0].imshow([list_to_plot])\n",
        "axs[0].axis('off')\n",
        "axs[0].set_title('Input')\n",
        "\n",
        "\n",
        "axs[1].imshow([[top_match]])\n",
        "axs[1].axis('off')\n",
        "axs[1].set_title('Output')\n",
        "\n",
        "fig.suptitle(\"Corresponding R/G/B channel of input image\");"
      ],
      "execution_count": 0,
      "outputs": []
    }
  ]
}